{
 "cells": [
  {
   "cell_type": "code",
   "execution_count": null,
   "id": "dd6d68ad",
   "metadata": {},
   "outputs": [],
   "source": [
    "import serial\n",
    "import time\n",
    "import string\n",
    "import pynmea2\n",
    "from pubnub.pnconfiguration import PNConfiguration\n",
    "from pubnub.pubnub import PubNub\n",
    "from pubnub.exceptions import PubNubException\n",
    "pnChannel = \"gps_tracking\";\n",
    "pnconfig = PNConfiguration()\n",
    "pnconfig.subscribe_key = 'sub-c-385aee6a-2d74-4305-91bd-cdc8121481ee'\n",
    "pnconfig.publish_key = 'pub-c-0293bc60-ff01-4632-929f-51d16ed2b533'\n",
    "pnconfig.ssl = False\n",
    "pnconfig.uuid = 'hw'\n",
    "pubnub = PubNub(pnconfig)\n",
    "pubnub.subscribe().channels(pnChannel).execute()\n",
    "while True:\n",
    "    port=\"/dev/ttyAMA0\"\n",
    "    ser=serial.Serial(port, baudrate=9600, timeout=0.5)\n",
    "    dataout = pynmea2.NMEAStreamReader()\n",
    "    newdata=ser.readline()\n",
    "    if newdata[0:6] == b\"$GPRMC\":\n",
    "        newdata = newdata.decode()\n",
    "        newmsg=pynmea2.parse(newdata)\n",
    "        lat=newmsg.latitude\n",
    "        lng=newmsg.longitude\n",
    "        print(lat, lng)\n",
    "        try:\n",
    "            envelope = pubnub.publish().channel(pnChannel).message({\n",
    "            'lat':lat,\n",
    "            'lng':lng\n",
    "            }).sync()\n",
    "            print( envelope.result.timetoken)\n",
    "        except PubNubException as e:\n",
    "            handle_exception(e)"
   ]
  }
 ],
 "metadata": {
  "kernelspec": {
   "display_name": "Python 3",
   "language": "python",
   "name": "python3"
  },
  "language_info": {
   "codemirror_mode": {
    "name": "ipython",
    "version": 3
   },
   "file_extension": ".py",
   "mimetype": "text/x-python",
   "name": "python",
   "nbconvert_exporter": "python",
   "pygments_lexer": "ipython3",
   "version": "3.6.13"
  }
 },
 "nbformat": 4,
 "nbformat_minor": 5
}
